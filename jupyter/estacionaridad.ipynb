{
 "cells": [
  {
   "cell_type": "code",
   "execution_count": null,
   "metadata": {},
   "outputs": [],
   "source": [
    "import pandas as pd\n",
    "from arch.unitroot import ADF, KPSS\n",
    "import pyodbc\n",
    "import matplotlib.pyplot as plt\n",
    "import seaborn as sns\n",
    "import numpy as np\n",
    "\n",
    "#Extrayendo variable a analizar desde base de datos de Yunque Capital\n",
    "imae = \"'MRD-SR-05-01'\" #indice en base de datos de Yunque Capital\n",
    "conn = pyodbc.connect(driver='{ODBC Driver 17 for SQL Server}', \n",
    "                    server='<servername>', \n",
    "                    database='<databasename>', \n",
    "                    uid='<user>', \n",
    "                    pwd='<password>')\n",
    "c= conn.cursor()\n",
    "query = \"EXEC selectVariable @INDICE =\" + str(imae) #Query a la base de datos\n",
    "df = pd.read_sql(query,conn) #Enviando query a base de datos\n",
    "df[\"Fecha\"]=pd.to_datetime(df['Fecha'], utc=True) #Cambiando formato de columna de fechas\n",
    "df = df.set_index('Fecha') #Estableciendo indice de fechas\n",
    "df"
   ]
  },
  {
   "cell_type": "code",
   "execution_count": null,
   "metadata": {},
   "outputs": [],
   "source": [
    "fig, ax = plt.subplots(figsize=(10, 6))\n",
    "df.plot(title=\"IMAE\", ax=ax)"
   ]
  },
  {
   "cell_type": "code",
   "execution_count": null,
   "metadata": {},
   "outputs": [],
   "source": [
    "import seaborn as sns\n",
    "\n",
    "#Separando mes y año para analizar estacionalidad\n",
    "dfsns = df.copy()\n",
    "dfsns[\"year\"]=dfsns.index.year\n",
    "dfsns[\"month\"]=dfsns.index.strftime(\"%b\")\n",
    "#Creando grafico de parametros necesarios\n",
    "fig, ax = plt.subplots(figsize=(10, 6))\n",
    "sns.lineplot(data=dfsns,\n",
    "            x=\"month\",\n",
    "            y=\"Valor\",\n",
    "            hue=\"year\",\n",
    "            style=\"year\",\n",
    "            legend=\"full\",\n",
    "            palette=\"colorblind\")\n",
    "plt.title(\"IMAE Original - Seasonal Plot\")\n",
    "plt.legend(bbox_to_anchor=(1.05,1),loc=2)"
   ]
  },
  {
   "cell_type": "code",
   "execution_count": null,
   "metadata": {},
   "outputs": [],
   "source": [
    "#Test de estacionaridad de Dickey-Fuller\n",
    "adf = ADF(df[\"Valor\"])\n",
    "print(adf.summary().as_text())"
   ]
  },
  {
   "cell_type": "code",
   "execution_count": null,
   "metadata": {},
   "outputs": [],
   "source": [
    "def kpss_test(x, h0_type=\"c\"): \n",
    "    indices = [\"Test Statistic\", \"p-value\", \"# of Lags\"]\n",
    "    kpss_test = kpss(x, regression=h0_type)\n",
    "    results = pd.Series(kpss_test[0:3], index=indices)\n",
    "    \n",
    "    for key, value in kpss_test[3].items():\n",
    "        results[f\"Critical Value ({key})\"] = value\n",
    "    return results"
   ]
  },
  {
   "cell_type": "code",
   "execution_count": null,
   "metadata": {},
   "outputs": [],
   "source": [
    "kpss_test(df[\"Valor\"])"
   ]
  },
  {
   "cell_type": "code",
   "execution_count": null,
   "metadata": {},
   "outputs": [],
   "source": [
    "#Test de estacionaridad de Phillips-Perron\n",
    "adf = KPSS(df[\"primera_diferencia\"].dropna())\n",
    "print(adf.summary().as_text())"
   ]
  },
  {
   "cell_type": "code",
   "execution_count": null,
   "metadata": {},
   "outputs": [],
   "source": [
    "#Calcualndo diferencias\n",
    "df[\"primera_diferencia\"] = df.Valor.diff(1)"
   ]
  },
  {
   "cell_type": "code",
   "execution_count": null,
   "metadata": {},
   "outputs": [],
   "source": [
    "#mpliar tamaño de grafico\n",
    "fig, ax = plt.subplots(figsize=(10, 6))\n",
    "#graficar primera diferencia\n",
    "df[\"primera_diferencia\"].plot(title=\"primera diferencia\", ax=ax)"
   ]
  },
  {
   "cell_type": "code",
   "execution_count": null,
   "metadata": {},
   "outputs": [],
   "source": [
    "#Test de estacionaridad de Dickey-Fuller\n",
    "adf = ADF(df[\"primera_diferencia\"].dropna())\n",
    "print(adf.summary().as_text())"
   ]
  },
  {
   "cell_type": "code",
   "execution_count": null,
   "metadata": {},
   "outputs": [],
   "source": [
    "import numpy as np\n",
    "df[\"valor_log\"] = np.log(df.Valor)"
   ]
  },
  {
   "cell_type": "code",
   "execution_count": null,
   "metadata": {},
   "outputs": [],
   "source": [
    "df[\"valor_log\"].plot()"
   ]
  },
  {
   "cell_type": "code",
   "execution_count": null,
   "metadata": {},
   "outputs": [],
   "source": [
    "df[\"Valor\"].pct_change().plot()"
   ]
  },
  {
   "cell_type": "code",
   "execution_count": null,
   "metadata": {},
   "outputs": [],
   "source": [
    "df[\"primera_diferencia\"]"
   ]
  },
  {
   "cell_type": "code",
   "execution_count": null,
   "metadata": {},
   "outputs": [],
   "source": []
  }
 ],
 "metadata": {
  "kernelspec": {
   "display_name": "Python 3",
   "language": "python",
   "name": "python3"
  },
  "language_info": {
   "codemirror_mode": {
    "name": "ipython",
    "version": 3
   },
   "file_extension": ".py",
   "mimetype": "text/x-python",
   "name": "python",
   "nbconvert_exporter": "python",
   "pygments_lexer": "ipython3",
   "version": "3.9.13"
  },
  "orig_nbformat": 4
 },
 "nbformat": 4,
 "nbformat_minor": 2
}
